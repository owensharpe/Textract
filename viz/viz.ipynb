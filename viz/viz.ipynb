{
 "cells": [
  {
   "cell_type": "code",
   "execution_count": 1,
   "id": "3b34e101",
   "metadata": {},
   "outputs": [],
   "source": [
    "import pandas as pd\n",
    "import plotly.express as px\n",
    "import numpy as np\n",
    "import plotly.io as pio"
   ]
  },
  {
   "cell_type": "code",
   "execution_count": 2,
   "id": "65eed65a",
   "metadata": {},
   "outputs": [],
   "source": [
    "df = pd.read_csv('../experiments/data.csv')\n",
    "df['datetime'] = pd.to_datetime(df['datetime'])\n",
    "df['time_from_start'] = df.groupby('experiment')['datetime'].transform(lambda x: (x - x.min()).dt.total_seconds() / 3600)\n"
   ]
  },
  {
   "cell_type": "code",
   "execution_count": 3,
   "id": "15667619",
   "metadata": {},
   "outputs": [],
   "source": [
    "\n",
    "# Round both datetime and time_from_start\n",
    "df['datetime'] = pd.to_datetime(df['datetime']).dt.round('s')\n",
    "df['time_from_start'] = df['time_from_start'].round(2)  # Round to 2 decimal places\n",
    "\n",
    "# Pivot using both rounded values\n",
    "pivot_df = df.pivot_table(\n",
    "    index=['datetime', 'time_from_start', 'experiment'], \n",
    "    columns='tag', \n",
    "    values='value',\n",
    "    aggfunc='first'\n",
    ").reset_index()\n",
    "\n",
    "# Flatten column names\n",
    "pivot_df.columns.name = None"
   ]
  },
  {
   "cell_type": "code",
   "execution_count": 4,
   "id": "014ccd8f",
   "metadata": {},
   "outputs": [],
   "source": [
    "# change experiement names\n",
    "pivot_df['experiment'] = pivot_df['experiment'].replace({\n",
    "    'exp1': 'Standard Network',\n",
    "    'exp2': 'Small Network',\n",
    "    'exp3': 'Large Network',\n",
    "    'transformer_run': 'Standard Network w. New Transformer',\n",
    "})"
   ]
  },
  {
   "cell_type": "code",
   "execution_count": 5,
   "id": "181fcf62",
   "metadata": {},
   "outputs": [
    {
     "data": {
      "text/plain": [
       "array(['Loss/train', 'Loss/val', 'Accuracy/train', 'Accuracy/val',\n",
       "       'BLEU/val', 'LR'], dtype=object)"
      ]
     },
     "execution_count": 5,
     "metadata": {},
     "output_type": "execute_result"
    }
   ],
   "source": [
    "# metric options\n",
    "df['tag'].unique()"
   ]
  },
  {
   "cell_type": "code",
   "execution_count": 10,
   "id": "f946bb2c",
   "metadata": {},
   "outputs": [
    {
     "data": {
      "application/vnd.plotly.v1+json": {
       "config": {
        "plotlyServerURL": "https://plot.ly"
       },
       "data": [
        {
         "legendgroup": "Standard Network",
         "line": {
          "color": "#636EFA"
         },
         "mode": "lines+markers",
         "name": "Standard Network",
         "type": "scatter",
         "x": {
          "bdata": "AAAAAAAAAADXo3A9CtfTP9ejcD0K1+M/w/UoXI/C7T+uR+F6FK7zP6RwPQrXo/g/cT0K16Nw/T8zMzMzMzMBQK5H4XoUrgNAFK5H4XoUBkCPwvUoXI8IQPYoXI/C9QpAcT0K16NwDUA=",
          "dtype": "f8"
         },
         "xaxis": "x",
         "y": {
          "bdata": "////X4Ck3z8AAADgQLDhPwAAAEAdi+I/AAAAwOcp4z8AAACAr+fjPwAAAODAROQ/AAAAILuP5D8AAADgHc/kPwAAAABu3uQ/AAAAYOMZ5T8AAABAqKXlPwAAAACUyeU/AAAAgFvQ5T8=",
          "dtype": "f8"
         },
         "yaxis": "y"
        },
        {
         "legendgroup": "Standard Network",
         "line": {
          "color": "#636EFA"
         },
         "mode": "lines+markers",
         "name": "Standard Network",
         "showlegend": false,
         "type": "scatter",
         "x": {
          "bdata": "AAAAAAAAAADXo3A9CtfTP9ejcD0K1+M/w/UoXI/C7T+uR+F6FK7zP6RwPQrXo/g/cT0K16Nw/T8zMzMzMzMBQK5H4XoUrgNAFK5H4XoUBkCPwvUoXI8IQPYoXI/C9QpAcT0K16NwDUA=",
          "dtype": "f8"
         },
         "xaxis": "x2",
         "y": {
          "bdata": "AAAAAHAvAkD/////F9P8PwAAAKDA7/g/AAAAQAHF9j8AAABA4nT1PwAAAMBrfvQ/AAAAwJS98z8AAACAZDLzPwAAAKAjxPI/AAAAwMFu8j8AAADgBSbyP////x/b5vE/AAAAoDa88T8=",
          "dtype": "f8"
         },
         "yaxis": "y2"
        },
        {
         "legendgroup": "Small Network",
         "line": {
          "color": "#EF553B"
         },
         "mode": "lines+markers",
         "name": "Small Network",
         "type": "scatter",
         "x": {
          "bdata": "AAAAAAAAAAC4HoXrUbjOP7gehetRuN4/uB6F61G45j/D9Shcj8LtP4/C9Shcj/I/PQrXo3A99j/D9Shcj8L5P3E9CtejcP0/j8L1KFyPAEBSuB6F61ECQClcj8L1KARAAAAAAAAABkDXo3A9CtcHQJqZmZmZmQlA",
          "dtype": "f8"
         },
         "xaxis": "x",
         "y": {
          "bdata": "AAAAgJOr3D8AAABgUkbfPwAAAECBAOA/AAAA4FLX4D8AAAAgZibhPwAAAMA2R+E/AAAAYK6O4T8AAACARFjgPwAAAABDJOI/AAAAwG1H4T8AAADgkhPhPwAAAGCUu+E/AAAAwIy44D8AAADAXSDjPwAAAEBBnuI/",
          "dtype": "f8"
         },
         "yaxis": "y"
        },
        {
         "legendgroup": "Small Network",
         "line": {
          "color": "#EF553B"
         },
         "mode": "lines+markers",
         "name": "Small Network",
         "showlegend": false,
         "type": "scatter",
         "x": {
          "bdata": "AAAAAAAAAAC4HoXrUbjOP7gehetRuN4/uB6F61G45j/D9Shcj8LtP4/C9Shcj/I/PQrXo3A99j/D9Shcj8L5P3E9CtejcP0/j8L1KFyPAEBSuB6F61ECQClcj8L1KARAAAAAAAAABkDXo3A9CtcHQJqZmZmZmQlA",
          "dtype": "f8"
         },
         "xaxis": "x2",
         "y": {
          "bdata": "AAAAgHtKBEAAAABg+rAAQAEAAMDL7P0/AQAAIDbA+z8AAADgA3D6PwAAAIBGlvk/AAAAgOYM+T8AAAAAXqH4PwAAACDDUvg/AAAAYMwK+D8AAABAW9T3PwAAAKB1qPc/AAAAoHaH9z8AAADgvmT2PwAAAECbMPY/",
          "dtype": "f8"
         },
         "yaxis": "y2"
        },
        {
         "legendgroup": "Large Network",
         "line": {
          "color": "#00CC96"
         },
         "mode": "lines+markers",
         "name": "Large Network",
         "type": "scatter",
         "x": {
          "bdata": "AAAAAAAAAAA9CtejcD3aPz0K16NwPeo/rkfhehSu8z9mZmZmZmb6P3sUrkfhegBAw/UoXI/CA0A=",
          "dtype": "f8"
         },
         "xaxis": "x",
         "y": {
          "bdata": "AAAA4FuG4j8AAADgt5XlPwAAACD7teY/AAAAoFRf5z8AAACgAZfnPwAAAMCZBug/AAAAwD8+6D8=",
          "dtype": "f8"
         },
         "yaxis": "y"
        },
        {
         "legendgroup": "Large Network",
         "line": {
          "color": "#00CC96"
         },
         "mode": "lines+markers",
         "name": "Large Network",
         "showlegend": false,
         "type": "scatter",
         "x": {
          "bdata": "AAAAAAAAAAA9CtejcD3aPz0K16NwPeo/rkfhehSu8z9mZmZmZmb6P3sUrkfhegBAw/UoXI/CA0A=",
          "dtype": "f8"
         },
         "xaxis": "x2",
         "y": {
          "bdata": "AAAA4Jc1AEAAAADg8Rf1PwAAAGBnA/E/AAAAYM1p7j8AAABg0H3sPwAAAOCUQOs/AAAAYH5U6j8=",
          "dtype": "f8"
         },
         "yaxis": "y2"
        },
        {
         "legendgroup": "Standard Network w. New Transformer",
         "line": {
          "color": "#AB63FA"
         },
         "mode": "lines+markers",
         "name": "Standard Network w. New Transformer",
         "type": "scatter",
         "x": {
          "bdata": "AAAAAAAAAAAAAAAAAADoPwAAAAAAAPg/AAAAAAAAAkCamZmZmZkHQIXrUbgehQ1Aw/UoXI/CEUDD9Shcj8IUQKRwPQrXoxdAmpmZmZmZGkCPwvUoXI8dQDMzMzMzMyBApHA9CtejIUA=",
          "dtype": "f8"
         },
         "xaxis": "x",
         "y": {
          "bdata": "AAAAwFqm4j8AAADgnkjlPwAAAOB+nuY/AAAAgBsw5z8AAAAg5CznPwAAAOBL4ec/AAAAwOAa6D8AAAAAmBboPwAAACD6IOg/AAAAABNI6D8AAADgq3PoPwAAAADCveg/AAAAYCsy6D8=",
          "dtype": "f8"
         },
         "yaxis": "y"
        },
        {
         "legendgroup": "Standard Network w. New Transformer",
         "line": {
          "color": "#AB63FA"
         },
         "mode": "lines+markers",
         "name": "Standard Network w. New Transformer",
         "showlegend": false,
         "type": "scatter",
         "x": {
          "bdata": "AAAAAAAAAAAAAAAAAADoPwAAAAAAAPg/AAAAAAAAAkCamZmZmZkHQIXrUbgehQ1Aw/UoXI/CEUDD9Shcj8IUQKRwPQrXoxdAmpmZmZmZGkCPwvUoXI8dQDMzMzMzMyBApHA9CtejIUA=",
          "dtype": "f8"
         },
         "xaxis": "x2",
         "y": {
          "bdata": "////n3vB/T8AAAAgq3XzPwAAAGAhl/A/AAAAoOpC7j8AAADA6nvsPwAAAKB7POs/AAAAwCxi6j8AAAAADrPpPwAAAEDbLek/AAAAQIm/6D8AAADgB1boPwAAAAC8/+c/AAAAoNi65z8=",
          "dtype": "f8"
         },
         "yaxis": "y2"
        }
       ],
       "layout": {
        "annotations": [
         {
          "font": {
           "size": 16
          },
          "showarrow": false,
          "text": "Model Accuracy Over Time",
          "x": 0.2375,
          "xanchor": "center",
          "xref": "paper",
          "y": 1,
          "yanchor": "bottom",
          "yref": "paper"
         },
         {
          "font": {
           "size": 16
          },
          "showarrow": false,
          "text": "Training Loss Over Time",
          "x": 0.7625,
          "xanchor": "center",
          "xref": "paper",
          "y": 1,
          "yanchor": "bottom",
          "yref": "paper"
         },
         {
          "font": {
           "color": "black",
           "size": 12
          },
          "showarrow": false,
          "text": "Each marker represents<br>an epoch of training",
          "x": 1.9,
          "xref": "x",
          "y": 0.6,
          "yref": "y"
         },
         {
          "arrowcolor": "black",
          "arrowhead": 2,
          "arrowsize": 1,
          "arrowwidth": 2,
          "ax": -5,
          "ay": 30,
          "font": {
           "color": "black",
           "size": 12
          },
          "showarrow": true,
          "x": 1.84,
          "xref": "x",
          "y": 0.635,
          "yref": "y"
         }
        ],
        "height": 560,
        "legend": {
         "orientation": "v",
         "title": {
          "text": "Experiments"
         },
         "x": 0.85,
         "xanchor": "left",
         "y": 1,
         "yanchor": "top"
        },
        "template": {
         "data": {
          "bar": [
           {
            "error_x": {
             "color": "#2a3f5f"
            },
            "error_y": {
             "color": "#2a3f5f"
            },
            "marker": {
             "line": {
              "color": "#E5ECF6",
              "width": 0.5
             },
             "pattern": {
              "fillmode": "overlay",
              "size": 10,
              "solidity": 0.2
             }
            },
            "type": "bar"
           }
          ],
          "barpolar": [
           {
            "marker": {
             "line": {
              "color": "#E5ECF6",
              "width": 0.5
             },
             "pattern": {
              "fillmode": "overlay",
              "size": 10,
              "solidity": 0.2
             }
            },
            "type": "barpolar"
           }
          ],
          "carpet": [
           {
            "aaxis": {
             "endlinecolor": "#2a3f5f",
             "gridcolor": "white",
             "linecolor": "white",
             "minorgridcolor": "white",
             "startlinecolor": "#2a3f5f"
            },
            "baxis": {
             "endlinecolor": "#2a3f5f",
             "gridcolor": "white",
             "linecolor": "white",
             "minorgridcolor": "white",
             "startlinecolor": "#2a3f5f"
            },
            "type": "carpet"
           }
          ],
          "choropleth": [
           {
            "colorbar": {
             "outlinewidth": 0,
             "ticks": ""
            },
            "type": "choropleth"
           }
          ],
          "contour": [
           {
            "colorbar": {
             "outlinewidth": 0,
             "ticks": ""
            },
            "colorscale": [
             [
              0,
              "#0d0887"
             ],
             [
              0.1111111111111111,
              "#46039f"
             ],
             [
              0.2222222222222222,
              "#7201a8"
             ],
             [
              0.3333333333333333,
              "#9c179e"
             ],
             [
              0.4444444444444444,
              "#bd3786"
             ],
             [
              0.5555555555555556,
              "#d8576b"
             ],
             [
              0.6666666666666666,
              "#ed7953"
             ],
             [
              0.7777777777777778,
              "#fb9f3a"
             ],
             [
              0.8888888888888888,
              "#fdca26"
             ],
             [
              1,
              "#f0f921"
             ]
            ],
            "type": "contour"
           }
          ],
          "contourcarpet": [
           {
            "colorbar": {
             "outlinewidth": 0,
             "ticks": ""
            },
            "type": "contourcarpet"
           }
          ],
          "heatmap": [
           {
            "colorbar": {
             "outlinewidth": 0,
             "ticks": ""
            },
            "colorscale": [
             [
              0,
              "#0d0887"
             ],
             [
              0.1111111111111111,
              "#46039f"
             ],
             [
              0.2222222222222222,
              "#7201a8"
             ],
             [
              0.3333333333333333,
              "#9c179e"
             ],
             [
              0.4444444444444444,
              "#bd3786"
             ],
             [
              0.5555555555555556,
              "#d8576b"
             ],
             [
              0.6666666666666666,
              "#ed7953"
             ],
             [
              0.7777777777777778,
              "#fb9f3a"
             ],
             [
              0.8888888888888888,
              "#fdca26"
             ],
             [
              1,
              "#f0f921"
             ]
            ],
            "type": "heatmap"
           }
          ],
          "histogram": [
           {
            "marker": {
             "pattern": {
              "fillmode": "overlay",
              "size": 10,
              "solidity": 0.2
             }
            },
            "type": "histogram"
           }
          ],
          "histogram2d": [
           {
            "colorbar": {
             "outlinewidth": 0,
             "ticks": ""
            },
            "colorscale": [
             [
              0,
              "#0d0887"
             ],
             [
              0.1111111111111111,
              "#46039f"
             ],
             [
              0.2222222222222222,
              "#7201a8"
             ],
             [
              0.3333333333333333,
              "#9c179e"
             ],
             [
              0.4444444444444444,
              "#bd3786"
             ],
             [
              0.5555555555555556,
              "#d8576b"
             ],
             [
              0.6666666666666666,
              "#ed7953"
             ],
             [
              0.7777777777777778,
              "#fb9f3a"
             ],
             [
              0.8888888888888888,
              "#fdca26"
             ],
             [
              1,
              "#f0f921"
             ]
            ],
            "type": "histogram2d"
           }
          ],
          "histogram2dcontour": [
           {
            "colorbar": {
             "outlinewidth": 0,
             "ticks": ""
            },
            "colorscale": [
             [
              0,
              "#0d0887"
             ],
             [
              0.1111111111111111,
              "#46039f"
             ],
             [
              0.2222222222222222,
              "#7201a8"
             ],
             [
              0.3333333333333333,
              "#9c179e"
             ],
             [
              0.4444444444444444,
              "#bd3786"
             ],
             [
              0.5555555555555556,
              "#d8576b"
             ],
             [
              0.6666666666666666,
              "#ed7953"
             ],
             [
              0.7777777777777778,
              "#fb9f3a"
             ],
             [
              0.8888888888888888,
              "#fdca26"
             ],
             [
              1,
              "#f0f921"
             ]
            ],
            "type": "histogram2dcontour"
           }
          ],
          "mesh3d": [
           {
            "colorbar": {
             "outlinewidth": 0,
             "ticks": ""
            },
            "type": "mesh3d"
           }
          ],
          "parcoords": [
           {
            "line": {
             "colorbar": {
              "outlinewidth": 0,
              "ticks": ""
             }
            },
            "type": "parcoords"
           }
          ],
          "pie": [
           {
            "automargin": true,
            "type": "pie"
           }
          ],
          "scatter": [
           {
            "fillpattern": {
             "fillmode": "overlay",
             "size": 10,
             "solidity": 0.2
            },
            "type": "scatter"
           }
          ],
          "scatter3d": [
           {
            "line": {
             "colorbar": {
              "outlinewidth": 0,
              "ticks": ""
             }
            },
            "marker": {
             "colorbar": {
              "outlinewidth": 0,
              "ticks": ""
             }
            },
            "type": "scatter3d"
           }
          ],
          "scattercarpet": [
           {
            "marker": {
             "colorbar": {
              "outlinewidth": 0,
              "ticks": ""
             }
            },
            "type": "scattercarpet"
           }
          ],
          "scattergeo": [
           {
            "marker": {
             "colorbar": {
              "outlinewidth": 0,
              "ticks": ""
             }
            },
            "type": "scattergeo"
           }
          ],
          "scattergl": [
           {
            "marker": {
             "colorbar": {
              "outlinewidth": 0,
              "ticks": ""
             }
            },
            "type": "scattergl"
           }
          ],
          "scattermap": [
           {
            "marker": {
             "colorbar": {
              "outlinewidth": 0,
              "ticks": ""
             }
            },
            "type": "scattermap"
           }
          ],
          "scattermapbox": [
           {
            "marker": {
             "colorbar": {
              "outlinewidth": 0,
              "ticks": ""
             }
            },
            "type": "scattermapbox"
           }
          ],
          "scatterpolar": [
           {
            "marker": {
             "colorbar": {
              "outlinewidth": 0,
              "ticks": ""
             }
            },
            "type": "scatterpolar"
           }
          ],
          "scatterpolargl": [
           {
            "marker": {
             "colorbar": {
              "outlinewidth": 0,
              "ticks": ""
             }
            },
            "type": "scatterpolargl"
           }
          ],
          "scatterternary": [
           {
            "marker": {
             "colorbar": {
              "outlinewidth": 0,
              "ticks": ""
             }
            },
            "type": "scatterternary"
           }
          ],
          "surface": [
           {
            "colorbar": {
             "outlinewidth": 0,
             "ticks": ""
            },
            "colorscale": [
             [
              0,
              "#0d0887"
             ],
             [
              0.1111111111111111,
              "#46039f"
             ],
             [
              0.2222222222222222,
              "#7201a8"
             ],
             [
              0.3333333333333333,
              "#9c179e"
             ],
             [
              0.4444444444444444,
              "#bd3786"
             ],
             [
              0.5555555555555556,
              "#d8576b"
             ],
             [
              0.6666666666666666,
              "#ed7953"
             ],
             [
              0.7777777777777778,
              "#fb9f3a"
             ],
             [
              0.8888888888888888,
              "#fdca26"
             ],
             [
              1,
              "#f0f921"
             ]
            ],
            "type": "surface"
           }
          ],
          "table": [
           {
            "cells": {
             "fill": {
              "color": "#EBF0F8"
             },
             "line": {
              "color": "white"
             }
            },
            "header": {
             "fill": {
              "color": "#C8D4E3"
             },
             "line": {
              "color": "white"
             }
            },
            "type": "table"
           }
          ]
         },
         "layout": {
          "annotationdefaults": {
           "arrowcolor": "#2a3f5f",
           "arrowhead": 0,
           "arrowwidth": 1
          },
          "autotypenumbers": "strict",
          "coloraxis": {
           "colorbar": {
            "outlinewidth": 0,
            "ticks": ""
           }
          },
          "colorscale": {
           "diverging": [
            [
             0,
             "#8e0152"
            ],
            [
             0.1,
             "#c51b7d"
            ],
            [
             0.2,
             "#de77ae"
            ],
            [
             0.3,
             "#f1b6da"
            ],
            [
             0.4,
             "#fde0ef"
            ],
            [
             0.5,
             "#f7f7f7"
            ],
            [
             0.6,
             "#e6f5d0"
            ],
            [
             0.7,
             "#b8e186"
            ],
            [
             0.8,
             "#7fbc41"
            ],
            [
             0.9,
             "#4d9221"
            ],
            [
             1,
             "#276419"
            ]
           ],
           "sequential": [
            [
             0,
             "#0d0887"
            ],
            [
             0.1111111111111111,
             "#46039f"
            ],
            [
             0.2222222222222222,
             "#7201a8"
            ],
            [
             0.3333333333333333,
             "#9c179e"
            ],
            [
             0.4444444444444444,
             "#bd3786"
            ],
            [
             0.5555555555555556,
             "#d8576b"
            ],
            [
             0.6666666666666666,
             "#ed7953"
            ],
            [
             0.7777777777777778,
             "#fb9f3a"
            ],
            [
             0.8888888888888888,
             "#fdca26"
            ],
            [
             1,
             "#f0f921"
            ]
           ],
           "sequentialminus": [
            [
             0,
             "#0d0887"
            ],
            [
             0.1111111111111111,
             "#46039f"
            ],
            [
             0.2222222222222222,
             "#7201a8"
            ],
            [
             0.3333333333333333,
             "#9c179e"
            ],
            [
             0.4444444444444444,
             "#bd3786"
            ],
            [
             0.5555555555555556,
             "#d8576b"
            ],
            [
             0.6666666666666666,
             "#ed7953"
            ],
            [
             0.7777777777777778,
             "#fb9f3a"
            ],
            [
             0.8888888888888888,
             "#fdca26"
            ],
            [
             1,
             "#f0f921"
            ]
           ]
          },
          "colorway": [
           "#636efa",
           "#EF553B",
           "#00cc96",
           "#ab63fa",
           "#FFA15A",
           "#19d3f3",
           "#FF6692",
           "#B6E880",
           "#FF97FF",
           "#FECB52"
          ],
          "font": {
           "color": "#2a3f5f"
          },
          "geo": {
           "bgcolor": "white",
           "lakecolor": "white",
           "landcolor": "#E5ECF6",
           "showlakes": true,
           "showland": true,
           "subunitcolor": "white"
          },
          "hoverlabel": {
           "align": "left"
          },
          "hovermode": "closest",
          "mapbox": {
           "style": "light"
          },
          "paper_bgcolor": "white",
          "plot_bgcolor": "#E5ECF6",
          "polar": {
           "angularaxis": {
            "gridcolor": "white",
            "linecolor": "white",
            "ticks": ""
           },
           "bgcolor": "#E5ECF6",
           "radialaxis": {
            "gridcolor": "white",
            "linecolor": "white",
            "ticks": ""
           }
          },
          "scene": {
           "xaxis": {
            "backgroundcolor": "#E5ECF6",
            "gridcolor": "white",
            "gridwidth": 2,
            "linecolor": "white",
            "showbackground": true,
            "ticks": "",
            "zerolinecolor": "white"
           },
           "yaxis": {
            "backgroundcolor": "#E5ECF6",
            "gridcolor": "white",
            "gridwidth": 2,
            "linecolor": "white",
            "showbackground": true,
            "ticks": "",
            "zerolinecolor": "white"
           },
           "zaxis": {
            "backgroundcolor": "#E5ECF6",
            "gridcolor": "white",
            "gridwidth": 2,
            "linecolor": "white",
            "showbackground": true,
            "ticks": "",
            "zerolinecolor": "white"
           }
          },
          "shapedefaults": {
           "line": {
            "color": "#2a3f5f"
           }
          },
          "ternary": {
           "aaxis": {
            "gridcolor": "white",
            "linecolor": "white",
            "ticks": ""
           },
           "baxis": {
            "gridcolor": "white",
            "linecolor": "white",
            "ticks": ""
           },
           "bgcolor": "#E5ECF6",
           "caxis": {
            "gridcolor": "white",
            "linecolor": "white",
            "ticks": ""
           }
          },
          "title": {
           "x": 0.05
          },
          "xaxis": {
           "automargin": true,
           "gridcolor": "white",
           "linecolor": "white",
           "ticks": "",
           "title": {
            "standoff": 15
           },
           "zerolinecolor": "white",
           "zerolinewidth": 2
          },
          "yaxis": {
           "automargin": true,
           "gridcolor": "white",
           "linecolor": "white",
           "ticks": "",
           "title": {
            "standoff": 15
           },
           "zerolinecolor": "white",
           "zerolinewidth": 2
          }
         }
        },
        "width": 2000,
        "xaxis": {
         "anchor": "y",
         "domain": [
          0,
          0.475
         ],
         "range": [
          -0.1,
          4
         ],
         "title": {
          "text": "Training Time (hours)"
         }
        },
        "xaxis2": {
         "anchor": "y2",
         "domain": [
          0.525,
          1
         ],
         "range": [
          -0.1,
          4
         ],
         "title": {
          "text": "Training Time (hours)"
         }
        },
        "yaxis": {
         "anchor": "x",
         "domain": [
          0,
          1
         ],
         "title": {
          "text": "Validation Accuracy"
         }
        },
        "yaxis2": {
         "anchor": "x2",
         "domain": [
          0,
          1
         ],
         "title": {
          "text": "Training Loss"
         }
        }
       }
      }
     },
     "metadata": {},
     "output_type": "display_data"
    }
   ],
   "source": [
    "from plotly.subplots import make_subplots\n",
    "import plotly.graph_objects as go\n",
    "\n",
    "# Create subplots with 1 row and 2 columns\n",
    "fig = make_subplots(\n",
    "    rows=1, cols=2,\n",
    "    subplot_titles=('Model Accuracy Over Time', 'Training Loss Over Time'),\n",
    "    horizontal_spacing=0.05\n",
    ")\n",
    "\n",
    "# Get unique experiments for consistent coloring\n",
    "experiments = pivot_df['experiment'].unique()\n",
    "colors = px.colors.qualitative.Plotly[:len(experiments)]\n",
    "\n",
    "# Add traces for each experiment\n",
    "for i, experiment in enumerate(experiments):\n",
    "    exp_data = pivot_df[pivot_df['experiment'] == experiment]\n",
    "    \n",
    "    # Add accuracy trace to first subplot\n",
    "    fig.add_trace(\n",
    "        go.Scatter(\n",
    "            x=exp_data['time_from_start'],\n",
    "            y=exp_data['Accuracy/val'],\n",
    "            mode='lines+markers',\n",
    "            name=experiment,\n",
    "            line=dict(color=colors[i]),\n",
    "            legendgroup=experiment,\n",
    "        ),\n",
    "        row=1, col=1\n",
    "    )\n",
    "    \n",
    "    # Add training loss trace to second subplot\n",
    "    fig.add_trace(\n",
    "        go.Scatter(\n",
    "            x=exp_data['time_from_start'],\n",
    "            y=exp_data['Loss/train'],  # Use actual training loss column\n",
    "            mode='lines+markers',\n",
    "            name=experiment,\n",
    "            line=dict(color=colors[i]),\n",
    "            legendgroup=experiment,\n",
    "            showlegend=False  # Don't show duplicate legend entries\n",
    "        ),\n",
    "        row=1, col=2\n",
    "    )\n",
    "\n",
    "# Update layout\n",
    "fig.update_layout(\n",
    "    width=2000,  # Increased width for two subplots\n",
    "    height=560,\n",
    "    legend=dict(x=1.02, y=1, xanchor='left', yanchor='top')\n",
    ")\n",
    "\n",
    "# Update x-axes\n",
    "fig.update_xaxes(\n",
    "    title_text='Training Time (hours)',\n",
    "    range=[-0.1, 4],\n",
    "    row=1, col=1\n",
    ")\n",
    "fig.update_xaxes(\n",
    "    title_text='Training Time (hours)',\n",
    "    range=[-0.1, 4],\n",
    "    row=1, col=2\n",
    ")\n",
    "\n",
    "# Update y-axes\n",
    "fig.update_yaxes(\n",
    "    title_text='Validation Accuracy',\n",
    "    row=1, col=1\n",
    ")\n",
    "fig.update_yaxes(\n",
    "    title_text='Training Loss',\n",
    "    row=1, col=2\n",
    ")\n",
    "\n",
    "# Add annotation to first subplot\n",
    "fig.add_annotation(\n",
    "    x=1.9, y=0.6, \n",
    "    text=\"Each marker represents<br>an epoch of training\",\n",
    "    showarrow=False, \n",
    "    font=dict(size=12, color=\"black\"),\n",
    "    row=1, col=1\n",
    ")\n",
    "\n",
    "# Add arrow to first subplot\n",
    "fig.add_annotation(\n",
    "    x=1.84, y=0.635, \n",
    "    ax=-5, ay=30,\n",
    "    showarrow=True,\n",
    "    arrowhead=2,\n",
    "    arrowsize=1,\n",
    "    arrowwidth=2,\n",
    "    arrowcolor='black',\n",
    "    font=dict(size=12, color=\"black\"),\n",
    "    row=1, col=1\n",
    ")\n",
    "\n",
    "# anchor legend to top right of right subplot\n",
    "fig.update_layout(\n",
    "    legend=dict(\n",
    "        x=.85, y=1, \n",
    "        xanchor='left', \n",
    "        yanchor='top',\n",
    "        title_text='Experiments',\n",
    "        orientation='v'\n",
    "    )\n",
    ")\n",
    "\n",
    "pio.write_image(fig, 'presentation_dual_1.jpg', 'jpg', scale=1)\n",
    "\n",
    "fig.show()"
   ]
  },
  {
   "cell_type": "markdown",
   "id": "4b119f9d",
   "metadata": {},
   "source": [
    "## Creating Table\n",
    "If/when we want to compare model parameters in paper. "
   ]
  },
  {
   "cell_type": "code",
   "execution_count": null,
   "id": "533ab54f",
   "metadata": {},
   "outputs": [],
   "source": [
    "import os\n",
    "import json\n",
    "\n",
    "def load_experiment_args(dir):\n",
    "    args_file = os.path.join(dir, 'args.json')\n",
    "    if os.path.exists(args_file):\n",
    "        with open(args_file, 'r') as f:\n",
    "            return json.load(f)\n",
    "    return None\n"
   ]
  },
  {
   "cell_type": "code",
   "execution_count": null,
   "id": "308b114f",
   "metadata": {},
   "outputs": [],
   "source": [
    "experiments_dir = '../experiments'\n",
    "experiment_args = {}\n",
    "for subdir in os.listdir(experiments_dir):\n",
    "    subdir_path = os.path.join(experiments_dir, subdir)\n",
    "    if os.path.isdir(subdir_path):\n",
    "        args = load_experiment_args(subdir_path)\n",
    "        if args:\n",
    "            experiment_args[subdir] = args"
   ]
  },
  {
   "cell_type": "code",
   "execution_count": null,
   "id": "a77090e6",
   "metadata": {},
   "outputs": [
    {
     "data": {
      "text/html": [
       "<div>\n",
       "<style scoped>\n",
       "    .dataframe tbody tr th:only-of-type {\n",
       "        vertical-align: middle;\n",
       "    }\n",
       "\n",
       "    .dataframe tbody tr th {\n",
       "        vertical-align: top;\n",
       "    }\n",
       "\n",
       "    .dataframe thead th {\n",
       "        text-align: right;\n",
       "    }\n",
       "</style>\n",
       "<table border=\"1\" class=\"dataframe\">\n",
       "  <thead>\n",
       "    <tr style=\"text-align: right;\">\n",
       "      <th></th>\n",
       "      <th>En/Decoder Dimensions</th>\n",
       "      <th>Number of Layers</th>\n",
       "      <th>Batch Size</th>\n",
       "      <th>Pretrained Model?</th>\n",
       "    </tr>\n",
       "  </thead>\n",
       "  <tbody>\n",
       "    <tr>\n",
       "      <th>Small Network</th>\n",
       "      <td>64</td>\n",
       "      <td>1</td>\n",
       "      <td>128</td>\n",
       "      <td>False</td>\n",
       "    </tr>\n",
       "    <tr>\n",
       "      <th>Standard Network</th>\n",
       "      <td>256</td>\n",
       "      <td>2</td>\n",
       "      <td>32</td>\n",
       "      <td>False</td>\n",
       "    </tr>\n",
       "    <tr>\n",
       "      <th>Large Network</th>\n",
       "      <td>512</td>\n",
       "      <td>3</td>\n",
       "      <td>32</td>\n",
       "      <td>True</td>\n",
       "    </tr>\n",
       "    <tr>\n",
       "      <th>Standard Network w. New Transformer</th>\n",
       "      <td>256</td>\n",
       "      <td>3</td>\n",
       "      <td>32</td>\n",
       "      <td>True</td>\n",
       "    </tr>\n",
       "  </tbody>\n",
       "</table>\n",
       "</div>"
      ],
      "text/plain": [
       "                                    En/Decoder Dimensions Number of Layers  \\\n",
       "Small Network                                          64                1   \n",
       "Standard Network                                      256                2   \n",
       "Large Network                                         512                3   \n",
       "Standard Network w. New Transformer                   256                3   \n",
       "\n",
       "                                    Batch Size Pretrained Model?  \n",
       "Small Network                              128             False  \n",
       "Standard Network                            32             False  \n",
       "Large Network                               32              True  \n",
       "Standard Network w. New Transformer         32              True  "
      ]
     },
     "execution_count": 22,
     "metadata": {},
     "output_type": "execute_result"
    }
   ],
   "source": [
    "args_df = pd.DataFrame.from_dict(experiment_args, orient='index')\n",
    "present = args_df.T.loc[['encoder_d', 'num_layers', 'batch_size', 'pretrained'], \n",
    "              ['exp1', 'exp2', 'exp3', 'transformer_run']]\n",
    "\n",
    "present.columns = ['Standard Network', 'Small Network', 'Large Network', 'Standard Network w. New Transformer']\n",
    "present.index = ['En/Decoder Dimensions', 'Number of Layers', 'Batch Size', 'Pretrained Model?']\n",
    "\n",
    "# swap order of columns to match the plot\n",
    "present = present[['Small Network', 'Standard Network', 'Large Network', 'Standard Network w. New Transformer']]\n",
    "\n",
    "present.T"
   ]
  }
 ],
 "metadata": {
  "kernelspec": {
   "display_name": "cs4100_env",
   "language": "python",
   "name": "python3"
  },
  "language_info": {
   "codemirror_mode": {
    "name": "ipython",
    "version": 3
   },
   "file_extension": ".py",
   "mimetype": "text/x-python",
   "name": "python",
   "nbconvert_exporter": "python",
   "pygments_lexer": "ipython3",
   "version": "3.11.9"
  }
 },
 "nbformat": 4,
 "nbformat_minor": 5
}
